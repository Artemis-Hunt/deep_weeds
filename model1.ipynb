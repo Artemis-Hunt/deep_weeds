{
 "cells": [
  {
   "cell_type": "code",
   "execution_count": 1,
   "id": "1599c922-2422-4d2d-8b7e-1ff478402d58",
   "metadata": {},
   "outputs": [],
   "source": [
    "import tensorflow as tf\n",
    "import pandas as pad\n",
    "import numpy as np\n",
    "from tensorflow import keras\n",
    "from tensorflow.keras import layers, optimizers\n",
    "import tensorflow_datasets as tfds\n",
    "import matplotlib.pyplot as plt"
   ]
  },
  {
   "cell_type": "code",
   "execution_count": 2,
   "id": "b19c4332-97c9-47ab-b0b2-b1729052e5e2",
   "metadata": {},
   "outputs": [
    {
     "name": "stderr",
     "output_type": "stream",
     "text": [
      "2021-10-01 08:44:09.424968: I tensorflow/stream_executor/cuda/cuda_gpu_executor.cc:937] successful NUMA node read from SysFS had negative value (-1), but there must be at least one NUMA node, so returning NUMA node zero\n",
      "2021-10-01 08:44:09.433530: I tensorflow/stream_executor/cuda/cuda_gpu_executor.cc:937] successful NUMA node read from SysFS had negative value (-1), but there must be at least one NUMA node, so returning NUMA node zero\n",
      "2021-10-01 08:44:09.433982: I tensorflow/stream_executor/cuda/cuda_gpu_executor.cc:937] successful NUMA node read from SysFS had negative value (-1), but there must be at least one NUMA node, so returning NUMA node zero\n",
      "2021-10-01 08:44:09.435728: I tensorflow/core/platform/cpu_feature_guard.cc:142] This TensorFlow binary is optimized with oneAPI Deep Neural Network Library (oneDNN) to use the following CPU instructions in performance-critical operations:  AVX2 FMA\n",
      "To enable them in other operations, rebuild TensorFlow with the appropriate compiler flags.\n",
      "2021-10-01 08:44:09.436504: I tensorflow/stream_executor/cuda/cuda_gpu_executor.cc:937] successful NUMA node read from SysFS had negative value (-1), but there must be at least one NUMA node, so returning NUMA node zero\n",
      "2021-10-01 08:44:09.436990: I tensorflow/stream_executor/cuda/cuda_gpu_executor.cc:937] successful NUMA node read from SysFS had negative value (-1), but there must be at least one NUMA node, so returning NUMA node zero\n",
      "2021-10-01 08:44:09.437410: I tensorflow/stream_executor/cuda/cuda_gpu_executor.cc:937] successful NUMA node read from SysFS had negative value (-1), but there must be at least one NUMA node, so returning NUMA node zero\n",
      "2021-10-01 08:44:09.888564: I tensorflow/stream_executor/cuda/cuda_gpu_executor.cc:937] successful NUMA node read from SysFS had negative value (-1), but there must be at least one NUMA node, so returning NUMA node zero\n",
      "2021-10-01 08:44:09.889130: I tensorflow/stream_executor/cuda/cuda_gpu_executor.cc:937] successful NUMA node read from SysFS had negative value (-1), but there must be at least one NUMA node, so returning NUMA node zero\n",
      "2021-10-01 08:44:09.889545: I tensorflow/stream_executor/cuda/cuda_gpu_executor.cc:937] successful NUMA node read from SysFS had negative value (-1), but there must be at least one NUMA node, so returning NUMA node zero\n",
      "2021-10-01 08:44:09.889926: I tensorflow/core/common_runtime/gpu/gpu_device.cc:1510] Created device /job:localhost/replica:0/task:0/device:GPU:0 with 6916 MB memory:  -> device: 0, name: Tesla P4, pci bus id: 0000:00:04.0, compute capability: 6.1\n"
     ]
    }
   ],
   "source": [
    "(data_train, data_valid, data_test), dataset_info = tfds.load(\n",
    "    'deep_weeds',\n",
    "    split=['train[:60%]', 'train[60%:80%]', 'train[80%:]'],\n",
    "    with_info=True,\n",
    "    as_supervised = True\n",
    ")"
   ]
  },
  {
   "cell_type": "code",
   "execution_count": 3,
   "id": "f4fc13ca-26bc-444f-ba7b-82edb1e00411",
   "metadata": {},
   "outputs": [
    {
     "name": "stdout",
     "output_type": "stream",
     "text": [
      "Total Number of Classes: 9\n"
     ]
    }
   ],
   "source": [
    "# 看一下, 一共有多少分类\n",
    "num_classes = dataset_info.features['label'].num_classes\n",
    "print('Total Number of Classes: {}'.format(num_classes))"
   ]
  },
  {
   "cell_type": "code",
   "execution_count": 4,
   "id": "ac1fef32-e481-4f74-8cc5-313a2a071305",
   "metadata": {},
   "outputs": [
    {
     "name": "stdout",
     "output_type": "stream",
     "text": [
      "Total Number of Training Images: 10505\n",
      "Total Number of Validation Images: 3502\n",
      "Total Number of Test Images: 3502\n"
     ]
    }
   ],
   "source": [
    "# 数数具体每个训练，验证，测试集都有多少数据\n",
    "num_train = len(data_train)\n",
    "num_valid = len(data_valid)\n",
    "num_test = len(data_test)\n",
    "print('Total Number of Training Images: {}'.format(num_train))\n",
    "print('Total Number of Validation Images: {}'.format(num_valid))\n",
    "print('Total Number of Test Images: {}'.format(num_test))"
   ]
  },
  {
   "cell_type": "code",
   "execution_count": 5,
   "id": "503aff66-f0dd-4b9e-a787-d94d2c78c716",
   "metadata": {},
   "outputs": [],
   "source": [
    "IMAGE_RES = 224\n",
    "def preprocess_with_label(image, label):\n",
    "    image = tf.image.resize(image, (IMAGE_RES, IMAGE_RES))/255.0\n",
    "    return image, label\n",
    "\n",
    "def preprocess_without_label(dic):\n",
    "    image = dic['image']\n",
    "    preprocessed_image = tf.image.resize(image,[256,256])/255 # Scale to between 0 and 1\n",
    "    label = dic['label']\n",
    "    return preprocessed_image, label"
   ]
  },
  {
   "cell_type": "code",
   "execution_count": 6,
   "id": "cb135824-d9e1-405a-a8a3-0ee35e407e47",
   "metadata": {},
   "outputs": [
    {
     "name": "stderr",
     "output_type": "stream",
     "text": [
      "2021-10-01 08:44:10.123892: I tensorflow/compiler/mlir/mlir_graph_optimization_pass.cc:185] None of the MLIR Optimization Passes are enabled (registered 2)\n"
     ]
    },
    {
     "name": "stdout",
     "output_type": "stream",
     "text": [
      "<PrefetchDataset shapes: ((None, 224, 224, 3), (None,)), types: (tf.float32, tf.int64)>\n",
      "<PrefetchDataset shapes: ((None, 224, 224, 3), (None,)), types: (tf.float32, tf.int64)>\n",
      "Image 1 shape: (32, 224, 224, 3) label: [2 8 8 8 0 3 8 8 3 8 0 8 5 4 4 8 8 2 1 8 0 0 0 8 2 8 0 6 8 8 6 5]\n",
      "Image 2 shape: (32, 224, 224, 3) label: [5 7 0 8 8 8 8 8 8 6 7 2 8 8 8 8 3 8 8 8 8 1 2 3 8 0 8 8 8 8 8 8]\n",
      "Image 3 shape: (32, 224, 224, 3) label: [8 8 8 8 6 8 8 8 2 8 8 8 8 6 8 8 1 0 7 1 2 8 8 8 7 5 5 8 1 4 8 2]\n",
      "Image 4 shape: (32, 224, 224, 3) label: [8 3 8 3 0 3 0 8 0 7 8 8 8 8 8 7 8 6 8 8 6 8 0 0 8 8 0 4 8 8 8 7]\n",
      "Image 5 shape: (32, 224, 224, 3) label: [0 8 8 8 8 8 3 2 8 8 8 8 8 8 8 8 2 8 8 7 8 8 0 0 8 6 8 2 8 8 1 7]\n"
     ]
    }
   ],
   "source": [
    "# 制作成batch\n",
    "BATCH_SIZE = 32\n",
    "\n",
    "\n",
    "train_batches = data_train.shuffle(num_train//4).map(preprocess_with_label).batch(BATCH_SIZE).prefetch(1)\n",
    "validation_batches = data_valid.map(preprocess_with_label).batch(BATCH_SIZE).prefetch(1)\n",
    "\n",
    "\"\"\"train_batches = data_train.map(preprocess_without_label).batch(BATCH_SIZE)\n",
    "validation_batches = data_valid.map(preprocess_without_label).batch(BATCH_SIZE)\"\"\"\n",
    "\n",
    "print(train_batches)\n",
    "print(validation_batches)\n",
    "for i, example in enumerate(train_batches.take(5)):\n",
    "    print('Image {} shape: {} label: {}'.format(i+1, example[0].shape, example[1]))"
   ]
  },
  {
   "cell_type": "code",
   "execution_count": 7,
   "id": "3875d680-65d2-476d-b71c-219ee3d43bbf",
   "metadata": {},
   "outputs": [
    {
     "name": "stdout",
     "output_type": "stream",
     "text": [
      "Model: \"sequential\"\n",
      "_________________________________________________________________\n",
      "Layer (type)                 Output Shape              Param #   \n",
      "=================================================================\n",
      "keras_layer (KerasLayer)     (None, 1280)              2257984   \n",
      "_________________________________________________________________\n",
      "dense (Dense)                (None, 9)                 11529     \n",
      "=================================================================\n",
      "Total params: 2,269,513\n",
      "Trainable params: 11,529\n",
      "Non-trainable params: 2,257,984\n",
      "_________________________________________________________________\n"
     ]
    }
   ],
   "source": [
    "import tensorflow_hub as hub\n",
    "URL = \"https://tfhub.dev/google/tf2-preview/mobilenet_v2/feature_vector/4\"\n",
    "feature_extractor = hub.KerasLayer(URL,\n",
    "                                   input_shape=(IMAGE_RES, IMAGE_RES, 3))\n",
    "feature_extractor.trainable = False\n",
    "model = tf.keras.Sequential([\n",
    "  feature_extractor,\n",
    "  tf.keras.layers.Dense(num_classes)\n",
    "])\n",
    "model.summary()"
   ]
  },
  {
   "cell_type": "code",
   "execution_count": 8,
   "id": "243ab86b-fd78-4353-a8ad-bfd29d69748d",
   "metadata": {},
   "outputs": [
    {
     "name": "stdout",
     "output_type": "stream",
     "text": [
      "Epoch 1/100\n"
     ]
    },
    {
     "name": "stderr",
     "output_type": "stream",
     "text": [
      "2021-10-01 08:44:16.398897: I tensorflow/stream_executor/cuda/cuda_dnn.cc:369] Loaded cuDNN version 8005\n"
     ]
    },
    {
     "name": "stdout",
     "output_type": "stream",
     "text": [
      "329/329 [==============================] - 28s 72ms/step - loss: 0.9275 - accuracy: 0.6816 - val_loss: 0.7248 - val_accuracy: 0.7484\n",
      "Epoch 2/100\n",
      "329/329 [==============================] - 24s 70ms/step - loss: 0.6424 - accuracy: 0.7781 - val_loss: 0.6195 - val_accuracy: 0.7853\n",
      "Epoch 3/100\n",
      "329/329 [==============================] - 24s 69ms/step - loss: 0.5513 - accuracy: 0.8076 - val_loss: 0.5887 - val_accuracy: 0.7967\n",
      "Epoch 4/100\n",
      "329/329 [==============================] - 24s 69ms/step - loss: 0.5016 - accuracy: 0.8300 - val_loss: 0.5598 - val_accuracy: 0.8018\n",
      "Epoch 5/100\n",
      "329/329 [==============================] - 24s 70ms/step - loss: 0.4612 - accuracy: 0.8436 - val_loss: 0.5692 - val_accuracy: 0.7978\n",
      "Epoch 6/100\n",
      "329/329 [==============================] - 24s 69ms/step - loss: 0.4364 - accuracy: 0.8495 - val_loss: 0.5438 - val_accuracy: 0.8135\n",
      "Epoch 7/100\n",
      "329/329 [==============================] - 24s 69ms/step - loss: 0.4081 - accuracy: 0.8625 - val_loss: 0.5446 - val_accuracy: 0.8064\n",
      "Epoch 8/100\n",
      "329/329 [==============================] - 24s 69ms/step - loss: 0.3874 - accuracy: 0.8686 - val_loss: 0.5216 - val_accuracy: 0.8187\n",
      "Epoch 9/100\n",
      "329/329 [==============================] - 24s 69ms/step - loss: 0.3669 - accuracy: 0.8779 - val_loss: 0.5672 - val_accuracy: 0.8073\n",
      "Epoch 10/100\n",
      "329/329 [==============================] - 24s 69ms/step - loss: 0.3560 - accuracy: 0.8810 - val_loss: 0.5284 - val_accuracy: 0.8172\n",
      "Epoch 11/100\n",
      "329/329 [==============================] - 24s 69ms/step - loss: 0.3367 - accuracy: 0.8878 - val_loss: 0.5293 - val_accuracy: 0.8167\n",
      "Epoch 12/100\n",
      "329/329 [==============================] - 24s 69ms/step - loss: 0.3288 - accuracy: 0.8878 - val_loss: 0.5257 - val_accuracy: 0.8210\n",
      "Epoch 13/100\n",
      "329/329 [==============================] - 23s 69ms/step - loss: 0.3111 - accuracy: 0.8954 - val_loss: 0.5349 - val_accuracy: 0.8150\n",
      "Epoch 14/100\n",
      "329/329 [==============================] - 23s 69ms/step - loss: 0.3007 - accuracy: 0.8994 - val_loss: 0.5365 - val_accuracy: 0.8192\n",
      "Epoch 15/100\n",
      "329/329 [==============================] - 24s 69ms/step - loss: 0.2932 - accuracy: 0.9039 - val_loss: 0.5205 - val_accuracy: 0.8192\n",
      "Epoch 16/100\n",
      "329/329 [==============================] - 24s 69ms/step - loss: 0.2840 - accuracy: 0.9061 - val_loss: 0.5433 - val_accuracy: 0.8158\n",
      "Epoch 17/100\n",
      "329/329 [==============================] - 23s 69ms/step - loss: 0.2735 - accuracy: 0.9129 - val_loss: 0.5501 - val_accuracy: 0.8147\n",
      "Epoch 18/100\n",
      "329/329 [==============================] - 23s 69ms/step - loss: 0.2649 - accuracy: 0.9154 - val_loss: 0.5453 - val_accuracy: 0.8113\n",
      "Epoch 19/100\n",
      "329/329 [==============================] - 23s 69ms/step - loss: 0.2594 - accuracy: 0.9156 - val_loss: 0.5454 - val_accuracy: 0.8141\n",
      "Epoch 20/100\n",
      "329/329 [==============================] - 23s 69ms/step - loss: 0.2475 - accuracy: 0.9196 - val_loss: 0.5627 - val_accuracy: 0.8055\n",
      "Epoch 21/100\n",
      "329/329 [==============================] - 23s 69ms/step - loss: 0.2417 - accuracy: 0.9223 - val_loss: 0.5390 - val_accuracy: 0.8175\n",
      "Epoch 22/100\n",
      "329/329 [==============================] - 23s 69ms/step - loss: 0.2361 - accuracy: 0.9263 - val_loss: 0.5566 - val_accuracy: 0.8073\n",
      "Epoch 23/100\n",
      "329/329 [==============================] - 23s 69ms/step - loss: 0.2280 - accuracy: 0.9293 - val_loss: 0.5585 - val_accuracy: 0.8101\n",
      "Epoch 24/100\n",
      "329/329 [==============================] - 23s 69ms/step - loss: 0.2240 - accuracy: 0.9296 - val_loss: 0.5524 - val_accuracy: 0.8098\n",
      "Epoch 25/100\n",
      "329/329 [==============================] - 28s 84ms/step - loss: 0.2168 - accuracy: 0.9351 - val_loss: 0.5608 - val_accuracy: 0.8158\n",
      "Epoch 26/100\n",
      "329/329 [==============================] - 24s 70ms/step - loss: 0.2127 - accuracy: 0.9353 - val_loss: 0.5616 - val_accuracy: 0.8195\n",
      "Epoch 27/100\n",
      "329/329 [==============================] - 23s 69ms/step - loss: 0.2085 - accuracy: 0.9348 - val_loss: 0.5519 - val_accuracy: 0.8178\n",
      "Epoch 28/100\n",
      "329/329 [==============================] - 23s 69ms/step - loss: 0.2040 - accuracy: 0.9389 - val_loss: 0.5794 - val_accuracy: 0.8107\n",
      "Epoch 29/100\n",
      "329/329 [==============================] - 23s 69ms/step - loss: 0.1991 - accuracy: 0.9409 - val_loss: 0.5629 - val_accuracy: 0.8167\n",
      "Epoch 30/100\n",
      "329/329 [==============================] - 23s 69ms/step - loss: 0.1941 - accuracy: 0.9422 - val_loss: 0.5787 - val_accuracy: 0.8121\n",
      "Epoch 31/100\n",
      "329/329 [==============================] - 23s 69ms/step - loss: 0.1877 - accuracy: 0.9453 - val_loss: 0.5718 - val_accuracy: 0.8144\n",
      "Epoch 32/100\n",
      "329/329 [==============================] - 24s 70ms/step - loss: 0.1849 - accuracy: 0.9460 - val_loss: 0.5717 - val_accuracy: 0.8187\n",
      "Epoch 33/100\n",
      "329/329 [==============================] - 23s 69ms/step - loss: 0.1798 - accuracy: 0.9499 - val_loss: 0.5736 - val_accuracy: 0.8130\n",
      "Epoch 34/100\n",
      "329/329 [==============================] - 23s 69ms/step - loss: 0.1764 - accuracy: 0.9497 - val_loss: 0.5746 - val_accuracy: 0.8152\n",
      "Epoch 35/100\n",
      "329/329 [==============================] - 28s 84ms/step - loss: 0.1748 - accuracy: 0.9511 - val_loss: 0.5857 - val_accuracy: 0.8087\n",
      "Epoch 36/100\n",
      "329/329 [==============================] - 23s 69ms/step - loss: 0.1703 - accuracy: 0.9507 - val_loss: 0.5949 - val_accuracy: 0.8150\n",
      "Epoch 37/100\n",
      "329/329 [==============================] - 24s 69ms/step - loss: 0.1656 - accuracy: 0.9530 - val_loss: 0.5987 - val_accuracy: 0.8061\n",
      "Epoch 38/100\n",
      "329/329 [==============================] - 24s 69ms/step - loss: 0.1617 - accuracy: 0.9561 - val_loss: 0.5873 - val_accuracy: 0.8144\n",
      "Epoch 39/100\n",
      "329/329 [==============================] - 24s 70ms/step - loss: 0.1596 - accuracy: 0.9558 - val_loss: 0.6038 - val_accuracy: 0.8138\n",
      "Epoch 40/100\n",
      "329/329 [==============================] - 24s 69ms/step - loss: 0.1565 - accuracy: 0.9581 - val_loss: 0.6084 - val_accuracy: 0.8132\n",
      "Epoch 41/100\n",
      "329/329 [==============================] - 24s 69ms/step - loss: 0.1534 - accuracy: 0.9570 - val_loss: 0.6055 - val_accuracy: 0.8104\n",
      "Epoch 42/100\n",
      "329/329 [==============================] - 23s 69ms/step - loss: 0.1471 - accuracy: 0.9594 - val_loss: 0.6452 - val_accuracy: 0.8073\n",
      "Epoch 43/100\n",
      "329/329 [==============================] - 23s 69ms/step - loss: 0.1461 - accuracy: 0.9631 - val_loss: 0.6327 - val_accuracy: 0.8107\n",
      "Epoch 44/100\n",
      "329/329 [==============================] - 23s 69ms/step - loss: 0.1444 - accuracy: 0.9612 - val_loss: 0.6450 - val_accuracy: 0.8024\n",
      "Epoch 45/100\n",
      "329/329 [==============================] - 24s 69ms/step - loss: 0.1387 - accuracy: 0.9645 - val_loss: 0.6380 - val_accuracy: 0.8084\n",
      "Epoch 46/100\n",
      "329/329 [==============================] - 23s 69ms/step - loss: 0.1370 - accuracy: 0.9658 - val_loss: 0.6327 - val_accuracy: 0.8070\n",
      "Epoch 47/100\n",
      "329/329 [==============================] - 23s 69ms/step - loss: 0.1349 - accuracy: 0.9660 - val_loss: 0.6330 - val_accuracy: 0.8104\n",
      "Epoch 48/100\n",
      "329/329 [==============================] - 23s 69ms/step - loss: 0.1357 - accuracy: 0.9630 - val_loss: 0.6421 - val_accuracy: 0.8075\n",
      "Epoch 49/100\n",
      "329/329 [==============================] - 23s 69ms/step - loss: 0.1320 - accuracy: 0.9666 - val_loss: 0.6405 - val_accuracy: 0.8053\n",
      "Epoch 50/100\n",
      "329/329 [==============================] - 23s 69ms/step - loss: 0.1283 - accuracy: 0.9681 - val_loss: 0.6622 - val_accuracy: 0.8061\n",
      "Epoch 51/100\n",
      "329/329 [==============================] - 23s 69ms/step - loss: 0.1245 - accuracy: 0.9694 - val_loss: 0.6624 - val_accuracy: 0.8087\n",
      "Epoch 52/100\n",
      "329/329 [==============================] - 23s 69ms/step - loss: 0.1221 - accuracy: 0.9707 - val_loss: 0.6590 - val_accuracy: 0.8038\n",
      "Epoch 53/100\n",
      "329/329 [==============================] - 24s 69ms/step - loss: 0.1208 - accuracy: 0.9715 - val_loss: 0.6592 - val_accuracy: 0.8087\n",
      "Epoch 54/100\n",
      "329/329 [==============================] - 23s 69ms/step - loss: 0.1182 - accuracy: 0.9725 - val_loss: 0.6836 - val_accuracy: 0.8007\n",
      "Epoch 55/100\n",
      "329/329 [==============================] - 23s 69ms/step - loss: 0.1199 - accuracy: 0.9712 - val_loss: 0.6901 - val_accuracy: 0.8055\n",
      "Epoch 56/100\n",
      "329/329 [==============================] - 23s 69ms/step - loss: 0.1164 - accuracy: 0.9721 - val_loss: 0.6679 - val_accuracy: 0.8038\n",
      "Epoch 57/100\n",
      "329/329 [==============================] - 24s 69ms/step - loss: 0.1137 - accuracy: 0.9730 - val_loss: 0.6932 - val_accuracy: 0.8044\n",
      "Epoch 58/100\n",
      "329/329 [==============================] - 23s 69ms/step - loss: 0.1136 - accuracy: 0.9730 - val_loss: 0.7257 - val_accuracy: 0.8075\n",
      "Epoch 59/100\n",
      "329/329 [==============================] - 24s 69ms/step - loss: 0.1103 - accuracy: 0.9742 - val_loss: 0.7087 - val_accuracy: 0.8073\n",
      "Epoch 60/100\n",
      "329/329 [==============================] - 24s 69ms/step - loss: 0.1066 - accuracy: 0.9768 - val_loss: 0.6918 - val_accuracy: 0.8090\n",
      "Epoch 61/100\n",
      "329/329 [==============================] - 24s 69ms/step - loss: 0.1064 - accuracy: 0.9751 - val_loss: 0.6959 - val_accuracy: 0.8058\n",
      "Epoch 62/100\n",
      "329/329 [==============================] - 23s 69ms/step - loss: 0.1035 - accuracy: 0.9763 - val_loss: 0.7232 - val_accuracy: 0.8058\n",
      "Epoch 63/100\n",
      "329/329 [==============================] - 23s 69ms/step - loss: 0.1021 - accuracy: 0.9792 - val_loss: 0.7133 - val_accuracy: 0.8067\n",
      "Epoch 64/100\n",
      "329/329 [==============================] - 23s 69ms/step - loss: 0.0992 - accuracy: 0.9775 - val_loss: 0.7079 - val_accuracy: 0.8044\n",
      "Epoch 65/100\n",
      "329/329 [==============================] - 23s 69ms/step - loss: 0.0982 - accuracy: 0.9795 - val_loss: 0.7135 - val_accuracy: 0.8070\n",
      "Epoch 66/100\n",
      "329/329 [==============================] - 24s 70ms/step - loss: 0.0961 - accuracy: 0.9808 - val_loss: 0.7229 - val_accuracy: 0.8090\n",
      "Epoch 67/100\n",
      "329/329 [==============================] - 23s 69ms/step - loss: 0.0954 - accuracy: 0.9810 - val_loss: 0.7194 - val_accuracy: 0.8038\n",
      "Epoch 68/100\n",
      "329/329 [==============================] - 28s 84ms/step - loss: 0.0969 - accuracy: 0.9795 - val_loss: 0.7339 - val_accuracy: 0.8053\n",
      "Epoch 69/100\n",
      "329/329 [==============================] - 23s 69ms/step - loss: 0.0922 - accuracy: 0.9813 - val_loss: 0.7628 - val_accuracy: 0.8033\n",
      "Epoch 70/100\n",
      "329/329 [==============================] - 23s 69ms/step - loss: 0.0899 - accuracy: 0.9822 - val_loss: 0.7424 - val_accuracy: 0.8033\n",
      "Epoch 71/100\n",
      "329/329 [==============================] - 23s 69ms/step - loss: 0.0905 - accuracy: 0.9822 - val_loss: 0.7457 - val_accuracy: 0.7990\n",
      "Epoch 72/100\n",
      "329/329 [==============================] - 23s 69ms/step - loss: 0.0870 - accuracy: 0.9836 - val_loss: 0.7394 - val_accuracy: 0.8038\n",
      "Epoch 73/100\n",
      "329/329 [==============================] - 23s 69ms/step - loss: 0.0879 - accuracy: 0.9825 - val_loss: 0.7493 - val_accuracy: 0.7984\n",
      "Epoch 74/100\n",
      "329/329 [==============================] - 24s 69ms/step - loss: 0.0859 - accuracy: 0.9835 - val_loss: 0.7489 - val_accuracy: 0.8055\n",
      "Epoch 75/100\n",
      "329/329 [==============================] - 24s 69ms/step - loss: 0.0845 - accuracy: 0.9822 - val_loss: 0.7536 - val_accuracy: 0.8035\n",
      "Epoch 76/100\n",
      "329/329 [==============================] - 23s 69ms/step - loss: 0.0816 - accuracy: 0.9851 - val_loss: 0.7505 - val_accuracy: 0.8030\n",
      "Epoch 77/100\n",
      "329/329 [==============================] - 23s 69ms/step - loss: 0.0812 - accuracy: 0.9851 - val_loss: 0.7632 - val_accuracy: 0.7984\n",
      "Epoch 78/100\n",
      "329/329 [==============================] - 24s 69ms/step - loss: 0.0790 - accuracy: 0.9857 - val_loss: 0.7779 - val_accuracy: 0.7998\n",
      "Epoch 79/100\n",
      "329/329 [==============================] - 24s 69ms/step - loss: 0.0787 - accuracy: 0.9855 - val_loss: 0.7962 - val_accuracy: 0.8038\n",
      "Epoch 80/100\n",
      "329/329 [==============================] - 23s 69ms/step - loss: 0.0778 - accuracy: 0.9860 - val_loss: 0.7838 - val_accuracy: 0.8004\n",
      "Epoch 81/100\n",
      "329/329 [==============================] - 23s 69ms/step - loss: 0.0748 - accuracy: 0.9867 - val_loss: 0.8047 - val_accuracy: 0.7970\n",
      "Epoch 82/100\n",
      "329/329 [==============================] - 23s 69ms/step - loss: 0.0754 - accuracy: 0.9851 - val_loss: 0.7904 - val_accuracy: 0.7998\n",
      "Epoch 83/100\n",
      "329/329 [==============================] - 23s 69ms/step - loss: 0.0736 - accuracy: 0.9865 - val_loss: 0.8055 - val_accuracy: 0.7973\n",
      "Epoch 84/100\n",
      "329/329 [==============================] - 23s 69ms/step - loss: 0.0737 - accuracy: 0.9865 - val_loss: 0.8070 - val_accuracy: 0.7958\n",
      "Epoch 85/100\n",
      "329/329 [==============================] - 23s 69ms/step - loss: 0.0718 - accuracy: 0.9883 - val_loss: 0.7975 - val_accuracy: 0.8010\n",
      "Epoch 86/100\n",
      "329/329 [==============================] - 23s 69ms/step - loss: 0.0703 - accuracy: 0.9877 - val_loss: 0.8006 - val_accuracy: 0.8004\n",
      "Epoch 87/100\n",
      "329/329 [==============================] - 23s 69ms/step - loss: 0.0703 - accuracy: 0.9872 - val_loss: 0.8125 - val_accuracy: 0.7993\n",
      "Epoch 88/100\n",
      "329/329 [==============================] - 23s 69ms/step - loss: 0.0684 - accuracy: 0.9888 - val_loss: 0.8197 - val_accuracy: 0.7984\n",
      "Epoch 89/100\n",
      "329/329 [==============================] - 23s 69ms/step - loss: 0.0680 - accuracy: 0.9884 - val_loss: 0.8264 - val_accuracy: 0.7933\n",
      "Epoch 90/100\n",
      "329/329 [==============================] - 23s 69ms/step - loss: 0.0654 - accuracy: 0.9898 - val_loss: 0.8330 - val_accuracy: 0.7955\n",
      "Epoch 91/100\n",
      "329/329 [==============================] - 24s 69ms/step - loss: 0.0647 - accuracy: 0.9898 - val_loss: 0.8387 - val_accuracy: 0.8024\n",
      "Epoch 92/100\n",
      "329/329 [==============================] - 23s 69ms/step - loss: 0.0634 - accuracy: 0.9905 - val_loss: 0.8316 - val_accuracy: 0.8007\n",
      "Epoch 93/100\n",
      "329/329 [==============================] - 23s 69ms/step - loss: 0.0636 - accuracy: 0.9901 - val_loss: 0.8352 - val_accuracy: 0.7950\n",
      "Epoch 94/100\n",
      "329/329 [==============================] - 23s 69ms/step - loss: 0.0637 - accuracy: 0.9902 - val_loss: 0.8409 - val_accuracy: 0.7944\n",
      "Epoch 95/100\n",
      "329/329 [==============================] - 23s 69ms/step - loss: 0.0619 - accuracy: 0.9894 - val_loss: 0.8486 - val_accuracy: 0.7987\n",
      "Epoch 96/100\n",
      "329/329 [==============================] - 23s 69ms/step - loss: 0.0597 - accuracy: 0.9914 - val_loss: 0.8566 - val_accuracy: 0.7995\n",
      "Epoch 97/100\n",
      "329/329 [==============================] - 23s 69ms/step - loss: 0.0595 - accuracy: 0.9911 - val_loss: 0.8797 - val_accuracy: 0.7955\n",
      "Epoch 98/100\n",
      "329/329 [==============================] - 23s 69ms/step - loss: 0.0590 - accuracy: 0.9908 - val_loss: 0.8600 - val_accuracy: 0.7938\n",
      "Epoch 99/100\n",
      "329/329 [==============================] - 23s 69ms/step - loss: 0.0576 - accuracy: 0.9916 - val_loss: 0.8796 - val_accuracy: 0.7981\n",
      "Epoch 100/100\n",
      "329/329 [==============================] - 23s 69ms/step - loss: 0.0576 - accuracy: 0.9912 - val_loss: 0.8631 - val_accuracy: 0.7984\n"
     ]
    }
   ],
   "source": [
    "model.compile(\n",
    "  optimizer='adam',\n",
    "  loss=tf.keras.losses.SparseCategoricalCrossentropy(from_logits=True),\n",
    "  metrics=['accuracy'])\n",
    "EPOCHS = 100\n",
    "history = model.fit(train_batches,\n",
    "                    epochs=EPOCHS,\n",
    "                    validation_data=validation_batches)"
   ]
  },
  {
   "cell_type": "code",
   "execution_count": 9,
   "id": "19d6488b-c625-40da-9bcb-69d0d1581bb0",
   "metadata": {},
   "outputs": [
    {
     "data": {
      "image/png": "[encoded data removed]",
      "text/plain": [
       "<Figure size 576x576 with 2 Axes>"
      ]
     },
     "metadata": {
      "needs_background": "light"
     },
     "output_type": "display_data"
    }
   ],
   "source": [
    "acc = history.history['accuracy']\n",
    "val_acc = history.history['val_accuracy']\n",
    "loss = history.history['loss']\n",
    "val_loss = history.history['val_loss']\n",
    "epochs_range = range(EPOCHS)\n",
    "plt.figure(figsize=(8, 8))\n",
    "plt.subplot(1, 2, 1)\n",
    "plt.plot(epochs_range, acc, label='Training Accuracy')\n",
    "plt.plot(epochs_range, val_acc, label='Validation Accuracy')\n",
    "plt.legend(loc='lower right')\n",
    "plt.title('Training and Validation Accuracy')\n",
    "plt.subplot(1, 2, 2)\n",
    "plt.plot(epochs_range, loss, label='Training Loss')\n",
    "plt.plot(epochs_range, val_loss, label='Validation Loss')\n",
    "plt.legend(loc='upper right')\n",
    "plt.title('Training and Validation Loss')\n",
    "plt.show()"
   ]
  },
  {
   "cell_type": "code",
   "execution_count": null,
   "id": "bf9cae00-637b-4dcd-97ea-e2700ea7d576",
   "metadata": {},
   "outputs": [],
   "source": []
  }
 ],
 "metadata": {
  "environment": {
   "name": "tf2-gpu.2-6.m80",
   "type": "gcloud",
   "uri": "gcr.io/deeplearning-platform-release/tf2-gpu.2-6:m80"
  },
  "kernelspec": {
   "display_name": "Python 3",
   "language": "python",
   "name": "python3"
  },
  "language_info": {
   "codemirror_mode": {
    "name": "ipython",
    "version": 3
   },
   "file_extension": ".py",
   "mimetype": "text/x-python",
   "name": "python",
   "nbconvert_exporter": "python",
   "pygments_lexer": "ipython3",
   "version": "3.7.10"
  }
 },
 "nbformat": 4,
 "nbformat_minor": 5
}
